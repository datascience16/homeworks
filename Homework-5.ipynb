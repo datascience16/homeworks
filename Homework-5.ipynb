{
 "cells": [
  {
   "cell_type": "markdown",
   "metadata": {},
   "source": [
    "(In order to load the stylesheet of this notebook, execute the last code cell in this notebook)"
   ]
  },
  {
   "cell_type": "markdown",
   "metadata": {},
   "source": [
    "# MapReduce"
   ]
  },
  {
   "cell_type": "markdown",
   "metadata": {},
   "source": [
    "In this assignment, you will use Hadoop MapReduce to implement a simple graph algorithm. For the assignment,you need to install Hadoop on your computer and then run some of the examples that come with the distribution. After getting familiar with the system, you have to implement an algorithm to compute the number of triangles per node in a graph that will be provided to you."
   ]
  },
  {
   "cell_type": "markdown",
   "metadata": {},
   "source": [
    "Install Hadoop on your computer (Single Node Installation): You will find the general directions to download and install Hadoop here:\n",
    "\n",
    "http://pingax.com/install-hadoop2-6-0-on-ubuntu/\n",
    "\n",
    "Here are the directions for installing Hadoop on Windows:\n",
    "\n",
    "http://wiki.apache.org/hadoop/Hadoop2OnWindows"
   ]
  },
  {
   "cell_type": "markdown",
   "metadata": {},
   "source": [
    "-----------------"
   ]
  },
  {
   "cell_type": "markdown",
   "metadata": {},
   "source": [
    "Now, let's run a word count example.\n",
    "\n",
    "First, download three ebooks from [Project Gutenberg](http://cs-people.bu.edu/kzhao/teaching/gutenberg/\n",
    "). You will use these as input data.\n",
    "\n",
    "Copy these files from your local file system to Hadoop's HDFS using:\n",
    "\n",
    "```hdfs dfs -copyFromLocal gutenberg /user/username/gutenberg```\n",
    "\n",
    "Next, download the [mapper](http://cs-people.bu.edu/kzhao/teaching/mapper.py) and [reducer](http://cs-people.bu.edu/kzhao/teaching/reducer.py).\n",
    "\n",
    "Run the example with the following:\n",
    "\n",
    "```hadoop jar hadoop-streaming-2.6.0.jar -file mapper.py -file reducer.py -mapper mapper.py -reducer reducer.py -combiner reducer.py -input gutenberg -output output```"
   ]
  },
  {
   "cell_type": "markdown",
   "metadata": {},
   "source": [
    "-----------------"
   ]
  },
  {
   "cell_type": "markdown",
   "metadata": {},
   "source": [
    "Implement in MapReduce the naive and the improved Triangle Counting algorithms that we discussed in class to find the number of triangles incident in each node in the graph. Run the algorithms on [this data file](http://cs-people.bu.edu/kzhao/teaching/com-youtube.ungraph.txt). Also, count the total number of triangles in the graph."
   ]
  },
  {
   "cell_type": "markdown",
   "metadata": {},
   "source": [
    "-----------------"
   ]
  },
  {
   "cell_type": "markdown",
   "metadata": {},
   "source": [
    "Create a recommender system for the Amazon dataset from Homework 4 using Spark MLlib. See example here: https://databricks.com/blog/2014/07/23/scalable-collaborative-filtering-with-spark-mllib.html"
   ]
  },
  {
   "cell_type": "markdown",
   "metadata": {},
   "source": [
    "-----------------"
   ]
  },
  {
   "cell_type": "markdown",
   "metadata": {},
   "source": [
    "Run a clustering algorithm using Spark MLlib on YY Ahn's dataset [\"Recipe datasets with cuisines\"](http://yongyeol.com/data/scirep-cuisines-detail.zip), which provides a list of ingredients and the country of origin for each recipe, scraped from popular recipe websites. See examples here: http://spark.apache.org/docs/latest/mllib-clustering.html"
   ]
  },
  {
   "cell_type": "markdown",
   "metadata": {},
   "source": [
    "-----------------"
   ]
  },
  {
   "cell_type": "code",
   "execution_count": null,
   "metadata": {
    "collapsed": true
   },
   "outputs": [],
   "source": []
  },
  {
   "cell_type": "code",
   "execution_count": null,
   "metadata": {
    "collapsed": false
   },
   "outputs": [],
   "source": [
    "# Code for setting the style of the notebook\n",
    "from IPython.core.display import HTML\n",
    "def css_styling():\n",
    "    styles = open(\"../theme/custom.css\", \"r\").read()\n",
    "    return HTML(styles)\n",
    "css_styling()"
   ]
  }
 ],
 "metadata": {
  "kernelspec": {
   "display_name": "Python 2",
   "language": "python",
   "name": "python2"
  },
  "language_info": {
   "codemirror_mode": {
    "name": "ipython",
    "version": 2
   },
   "file_extension": ".py",
   "mimetype": "text/x-python",
   "name": "python",
   "nbconvert_exporter": "python",
   "pygments_lexer": "ipython2",
   "version": "2.7.10"
  }
 },
 "nbformat": 4,
 "nbformat_minor": 0
}
